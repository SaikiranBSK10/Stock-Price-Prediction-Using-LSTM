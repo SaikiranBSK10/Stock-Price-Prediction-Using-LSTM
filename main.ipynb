{
  "nbformat": 4,
  "nbformat_minor": 0,
  "metadata": {
    "colab": {
      "provenance": []
    },
    "kernelspec": {
      "name": "python3",
      "display_name": "Python 3"
    },
    "language_info": {
      "name": "python"
    }
  },
  "cells": [
    {
      "cell_type": "markdown",
      "source": [
        "#### Importing all the Necessary Libraries"
      ],
      "metadata": {
        "id": "kPQiDkxfhPyo"
      }
    },
    {
      "cell_type": "code",
      "source": [
        "import pandas as pd\n",
        "import numpy as np\n",
        "import matplotlib.pyplot as plt\n",
        "from torch.utils.data import TensorDataset, DataLoader\n",
        "import torch\n",
        "from sklearn.preprocessing import MinMaxScaler\n",
        "from sklearn.metrics import mean_squared_error, mean_absolute_error\n",
        "import torch.optim as optim\n",
        "import torch.nn as nn"
      ],
      "metadata": {
        "id": "kAR7gUMuhURw"
      },
      "execution_count": 40,
      "outputs": []
    },
    {
      "cell_type": "markdown",
      "source": [
        "#### Loading the dataset"
      ],
      "metadata": {
        "id": "N23hv7Ouht9w"
      }
    },
    {
      "cell_type": "code",
      "source": [
        "df = pd.read_csv('/content/Google_Stock_Price_Train-1.csv')"
      ],
      "metadata": {
        "id": "O4GFqssZhhxV"
      },
      "execution_count": 41,
      "outputs": []
    },
    {
      "cell_type": "code",
      "source": [
        "df.head()"
      ],
      "metadata": {
        "colab": {
          "base_uri": "https://localhost:8080/",
          "height": 206
        },
        "id": "p8UXH19GhsAN",
        "outputId": "7e5150ca-930d-4036-eba0-9a0c4e180c79"
      },
      "execution_count": 42,
      "outputs": [
        {
          "output_type": "execute_result",
          "data": {
            "text/plain": [
              "       Date    Open    High     Low   Close      Volume\n",
              "0  1/3/2012  325.25  332.83  324.97  663.59   7,380,500\n",
              "1  1/4/2012  331.27  333.87  329.08  666.45   5,749,400\n",
              "2  1/5/2012  329.83  330.75  326.89  657.21   6,590,300\n",
              "3  1/6/2012  328.34  328.77  323.68  648.24   5,405,900\n",
              "4  1/9/2012  322.04  322.29  309.46  620.76  11,688,800"
            ],
            "text/html": [
              "\n",
              "  <div id=\"df-1de38821-8135-4de1-b971-b0fe2fb8763c\" class=\"colab-df-container\">\n",
              "    <div>\n",
              "<style scoped>\n",
              "    .dataframe tbody tr th:only-of-type {\n",
              "        vertical-align: middle;\n",
              "    }\n",
              "\n",
              "    .dataframe tbody tr th {\n",
              "        vertical-align: top;\n",
              "    }\n",
              "\n",
              "    .dataframe thead th {\n",
              "        text-align: right;\n",
              "    }\n",
              "</style>\n",
              "<table border=\"1\" class=\"dataframe\">\n",
              "  <thead>\n",
              "    <tr style=\"text-align: right;\">\n",
              "      <th></th>\n",
              "      <th>Date</th>\n",
              "      <th>Open</th>\n",
              "      <th>High</th>\n",
              "      <th>Low</th>\n",
              "      <th>Close</th>\n",
              "      <th>Volume</th>\n",
              "    </tr>\n",
              "  </thead>\n",
              "  <tbody>\n",
              "    <tr>\n",
              "      <th>0</th>\n",
              "      <td>1/3/2012</td>\n",
              "      <td>325.25</td>\n",
              "      <td>332.83</td>\n",
              "      <td>324.97</td>\n",
              "      <td>663.59</td>\n",
              "      <td>7,380,500</td>\n",
              "    </tr>\n",
              "    <tr>\n",
              "      <th>1</th>\n",
              "      <td>1/4/2012</td>\n",
              "      <td>331.27</td>\n",
              "      <td>333.87</td>\n",
              "      <td>329.08</td>\n",
              "      <td>666.45</td>\n",
              "      <td>5,749,400</td>\n",
              "    </tr>\n",
              "    <tr>\n",
              "      <th>2</th>\n",
              "      <td>1/5/2012</td>\n",
              "      <td>329.83</td>\n",
              "      <td>330.75</td>\n",
              "      <td>326.89</td>\n",
              "      <td>657.21</td>\n",
              "      <td>6,590,300</td>\n",
              "    </tr>\n",
              "    <tr>\n",
              "      <th>3</th>\n",
              "      <td>1/6/2012</td>\n",
              "      <td>328.34</td>\n",
              "      <td>328.77</td>\n",
              "      <td>323.68</td>\n",
              "      <td>648.24</td>\n",
              "      <td>5,405,900</td>\n",
              "    </tr>\n",
              "    <tr>\n",
              "      <th>4</th>\n",
              "      <td>1/9/2012</td>\n",
              "      <td>322.04</td>\n",
              "      <td>322.29</td>\n",
              "      <td>309.46</td>\n",
              "      <td>620.76</td>\n",
              "      <td>11,688,800</td>\n",
              "    </tr>\n",
              "  </tbody>\n",
              "</table>\n",
              "</div>\n",
              "    <div class=\"colab-df-buttons\">\n",
              "\n",
              "  <div class=\"colab-df-container\">\n",
              "    <button class=\"colab-df-convert\" onclick=\"convertToInteractive('df-1de38821-8135-4de1-b971-b0fe2fb8763c')\"\n",
              "            title=\"Convert this dataframe to an interactive table.\"\n",
              "            style=\"display:none;\">\n",
              "\n",
              "  <svg xmlns=\"http://www.w3.org/2000/svg\" height=\"24px\" viewBox=\"0 -960 960 960\">\n",
              "    <path d=\"M120-120v-720h720v720H120Zm60-500h600v-160H180v160Zm220 220h160v-160H400v160Zm0 220h160v-160H400v160ZM180-400h160v-160H180v160Zm440 0h160v-160H620v160ZM180-180h160v-160H180v160Zm440 0h160v-160H620v160Z\"/>\n",
              "  </svg>\n",
              "    </button>\n",
              "\n",
              "  <style>\n",
              "    .colab-df-container {\n",
              "      display:flex;\n",
              "      gap: 12px;\n",
              "    }\n",
              "\n",
              "    .colab-df-convert {\n",
              "      background-color: #E8F0FE;\n",
              "      border: none;\n",
              "      border-radius: 50%;\n",
              "      cursor: pointer;\n",
              "      display: none;\n",
              "      fill: #1967D2;\n",
              "      height: 32px;\n",
              "      padding: 0 0 0 0;\n",
              "      width: 32px;\n",
              "    }\n",
              "\n",
              "    .colab-df-convert:hover {\n",
              "      background-color: #E2EBFA;\n",
              "      box-shadow: 0px 1px 2px rgba(60, 64, 67, 0.3), 0px 1px 3px 1px rgba(60, 64, 67, 0.15);\n",
              "      fill: #174EA6;\n",
              "    }\n",
              "\n",
              "    .colab-df-buttons div {\n",
              "      margin-bottom: 4px;\n",
              "    }\n",
              "\n",
              "    [theme=dark] .colab-df-convert {\n",
              "      background-color: #3B4455;\n",
              "      fill: #D2E3FC;\n",
              "    }\n",
              "\n",
              "    [theme=dark] .colab-df-convert:hover {\n",
              "      background-color: #434B5C;\n",
              "      box-shadow: 0px 1px 3px 1px rgba(0, 0, 0, 0.15);\n",
              "      filter: drop-shadow(0px 1px 2px rgba(0, 0, 0, 0.3));\n",
              "      fill: #FFFFFF;\n",
              "    }\n",
              "  </style>\n",
              "\n",
              "    <script>\n",
              "      const buttonEl =\n",
              "        document.querySelector('#df-1de38821-8135-4de1-b971-b0fe2fb8763c button.colab-df-convert');\n",
              "      buttonEl.style.display =\n",
              "        google.colab.kernel.accessAllowed ? 'block' : 'none';\n",
              "\n",
              "      async function convertToInteractive(key) {\n",
              "        const element = document.querySelector('#df-1de38821-8135-4de1-b971-b0fe2fb8763c');\n",
              "        const dataTable =\n",
              "          await google.colab.kernel.invokeFunction('convertToInteractive',\n",
              "                                                    [key], {});\n",
              "        if (!dataTable) return;\n",
              "\n",
              "        const docLinkHtml = 'Like what you see? Visit the ' +\n",
              "          '<a target=\"_blank\" href=https://colab.research.google.com/notebooks/data_table.ipynb>data table notebook</a>'\n",
              "          + ' to learn more about interactive tables.';\n",
              "        element.innerHTML = '';\n",
              "        dataTable['output_type'] = 'display_data';\n",
              "        await google.colab.output.renderOutput(dataTable, element);\n",
              "        const docLink = document.createElement('div');\n",
              "        docLink.innerHTML = docLinkHtml;\n",
              "        element.appendChild(docLink);\n",
              "      }\n",
              "    </script>\n",
              "  </div>\n",
              "\n",
              "\n",
              "<div id=\"df-871f207c-90f7-4c57-a0ff-b640a2f888ce\">\n",
              "  <button class=\"colab-df-quickchart\" onclick=\"quickchart('df-871f207c-90f7-4c57-a0ff-b640a2f888ce')\"\n",
              "            title=\"Suggest charts\"\n",
              "            style=\"display:none;\">\n",
              "\n",
              "<svg xmlns=\"http://www.w3.org/2000/svg\" height=\"24px\"viewBox=\"0 0 24 24\"\n",
              "     width=\"24px\">\n",
              "    <g>\n",
              "        <path d=\"M19 3H5c-1.1 0-2 .9-2 2v14c0 1.1.9 2 2 2h14c1.1 0 2-.9 2-2V5c0-1.1-.9-2-2-2zM9 17H7v-7h2v7zm4 0h-2V7h2v10zm4 0h-2v-4h2v4z\"/>\n",
              "    </g>\n",
              "</svg>\n",
              "  </button>\n",
              "\n",
              "<style>\n",
              "  .colab-df-quickchart {\n",
              "      --bg-color: #E8F0FE;\n",
              "      --fill-color: #1967D2;\n",
              "      --hover-bg-color: #E2EBFA;\n",
              "      --hover-fill-color: #174EA6;\n",
              "      --disabled-fill-color: #AAA;\n",
              "      --disabled-bg-color: #DDD;\n",
              "  }\n",
              "\n",
              "  [theme=dark] .colab-df-quickchart {\n",
              "      --bg-color: #3B4455;\n",
              "      --fill-color: #D2E3FC;\n",
              "      --hover-bg-color: #434B5C;\n",
              "      --hover-fill-color: #FFFFFF;\n",
              "      --disabled-bg-color: #3B4455;\n",
              "      --disabled-fill-color: #666;\n",
              "  }\n",
              "\n",
              "  .colab-df-quickchart {\n",
              "    background-color: var(--bg-color);\n",
              "    border: none;\n",
              "    border-radius: 50%;\n",
              "    cursor: pointer;\n",
              "    display: none;\n",
              "    fill: var(--fill-color);\n",
              "    height: 32px;\n",
              "    padding: 0;\n",
              "    width: 32px;\n",
              "  }\n",
              "\n",
              "  .colab-df-quickchart:hover {\n",
              "    background-color: var(--hover-bg-color);\n",
              "    box-shadow: 0 1px 2px rgba(60, 64, 67, 0.3), 0 1px 3px 1px rgba(60, 64, 67, 0.15);\n",
              "    fill: var(--button-hover-fill-color);\n",
              "  }\n",
              "\n",
              "  .colab-df-quickchart-complete:disabled,\n",
              "  .colab-df-quickchart-complete:disabled:hover {\n",
              "    background-color: var(--disabled-bg-color);\n",
              "    fill: var(--disabled-fill-color);\n",
              "    box-shadow: none;\n",
              "  }\n",
              "\n",
              "  .colab-df-spinner {\n",
              "    border: 2px solid var(--fill-color);\n",
              "    border-color: transparent;\n",
              "    border-bottom-color: var(--fill-color);\n",
              "    animation:\n",
              "      spin 1s steps(1) infinite;\n",
              "  }\n",
              "\n",
              "  @keyframes spin {\n",
              "    0% {\n",
              "      border-color: transparent;\n",
              "      border-bottom-color: var(--fill-color);\n",
              "      border-left-color: var(--fill-color);\n",
              "    }\n",
              "    20% {\n",
              "      border-color: transparent;\n",
              "      border-left-color: var(--fill-color);\n",
              "      border-top-color: var(--fill-color);\n",
              "    }\n",
              "    30% {\n",
              "      border-color: transparent;\n",
              "      border-left-color: var(--fill-color);\n",
              "      border-top-color: var(--fill-color);\n",
              "      border-right-color: var(--fill-color);\n",
              "    }\n",
              "    40% {\n",
              "      border-color: transparent;\n",
              "      border-right-color: var(--fill-color);\n",
              "      border-top-color: var(--fill-color);\n",
              "    }\n",
              "    60% {\n",
              "      border-color: transparent;\n",
              "      border-right-color: var(--fill-color);\n",
              "    }\n",
              "    80% {\n",
              "      border-color: transparent;\n",
              "      border-right-color: var(--fill-color);\n",
              "      border-bottom-color: var(--fill-color);\n",
              "    }\n",
              "    90% {\n",
              "      border-color: transparent;\n",
              "      border-bottom-color: var(--fill-color);\n",
              "    }\n",
              "  }\n",
              "</style>\n",
              "\n",
              "  <script>\n",
              "    async function quickchart(key) {\n",
              "      const quickchartButtonEl =\n",
              "        document.querySelector('#' + key + ' button');\n",
              "      quickchartButtonEl.disabled = true;  // To prevent multiple clicks.\n",
              "      quickchartButtonEl.classList.add('colab-df-spinner');\n",
              "      try {\n",
              "        const charts = await google.colab.kernel.invokeFunction(\n",
              "            'suggestCharts', [key], {});\n",
              "      } catch (error) {\n",
              "        console.error('Error during call to suggestCharts:', error);\n",
              "      }\n",
              "      quickchartButtonEl.classList.remove('colab-df-spinner');\n",
              "      quickchartButtonEl.classList.add('colab-df-quickchart-complete');\n",
              "    }\n",
              "    (() => {\n",
              "      let quickchartButtonEl =\n",
              "        document.querySelector('#df-871f207c-90f7-4c57-a0ff-b640a2f888ce button');\n",
              "      quickchartButtonEl.style.display =\n",
              "        google.colab.kernel.accessAllowed ? 'block' : 'none';\n",
              "    })();\n",
              "  </script>\n",
              "</div>\n",
              "\n",
              "    </div>\n",
              "  </div>\n"
            ],
            "application/vnd.google.colaboratory.intrinsic+json": {
              "type": "dataframe",
              "variable_name": "df",
              "summary": "{\n  \"name\": \"df\",\n  \"rows\": 1258,\n  \"fields\": [\n    {\n      \"column\": \"Date\",\n      \"properties\": {\n        \"dtype\": \"object\",\n        \"num_unique_values\": 1258,\n        \"samples\": [\n          \"3/28/2014\",\n          \"5/29/2012\",\n          \"3/16/2012\"\n        ],\n        \"semantic_type\": \"\",\n        \"description\": \"\"\n      }\n    },\n    {\n      \"column\": \"Open\",\n      \"properties\": {\n        \"dtype\": \"number\",\n        \"std\": 151.90444191569622,\n        \"min\": 279.12,\n        \"max\": 816.68,\n        \"num_unique_values\": 1215,\n        \"samples\": [\n          509.6,\n          536.91,\n          302.89\n        ],\n        \"semantic_type\": \"\",\n        \"description\": \"\"\n      }\n    },\n    {\n      \"column\": \"High\",\n      \"properties\": {\n        \"dtype\": \"number\",\n        \"std\": 153.0088108666111,\n        \"min\": 281.21,\n        \"max\": 816.68,\n        \"num_unique_values\": 1219,\n        \"samples\": [\n          564.88,\n          376.39,\n          304.45\n        ],\n        \"semantic_type\": \"\",\n        \"description\": \"\"\n      }\n    },\n    {\n      \"column\": \"Low\",\n      \"properties\": {\n        \"dtype\": \"number\",\n        \"std\": 150.5528073376813,\n        \"min\": 277.22,\n        \"max\": 805.14,\n        \"num_unique_values\": 1223,\n        \"samples\": [\n          583.4,\n          341.56,\n          335.78\n        ],\n        \"semantic_type\": \"\",\n        \"description\": \"\"\n      }\n    },\n    {\n      \"column\": \"Close\",\n      \"properties\": {\n        \"dtype\": \"string\",\n        \"num_unique_values\": 1241,\n        \"samples\": [\n          \"600.7\",\n          \"605.89\",\n          \"704.36\"\n        ],\n        \"semantic_type\": \"\",\n        \"description\": \"\"\n      }\n    },\n    {\n      \"column\": \"Volume\",\n      \"properties\": {\n        \"dtype\": \"string\",\n        \"num_unique_values\": 1240,\n        \"samples\": [\n          \"3,737,100\",\n          \"7,884,700\",\n          \"2,920,800\"\n        ],\n        \"semantic_type\": \"\",\n        \"description\": \"\"\n      }\n    }\n  ]\n}"
            }
          },
          "metadata": {},
          "execution_count": 42
        }
      ]
    },
    {
      "cell_type": "code",
      "source": [
        "df.info()"
      ],
      "metadata": {
        "colab": {
          "base_uri": "https://localhost:8080/"
        },
        "id": "kC3ForX5hw7t",
        "outputId": "6286fe62-4ac6-473f-fe04-55cce6ed343a"
      },
      "execution_count": 43,
      "outputs": [
        {
          "output_type": "stream",
          "name": "stdout",
          "text": [
            "<class 'pandas.core.frame.DataFrame'>\n",
            "RangeIndex: 1258 entries, 0 to 1257\n",
            "Data columns (total 6 columns):\n",
            " #   Column  Non-Null Count  Dtype  \n",
            "---  ------  --------------  -----  \n",
            " 0   Date    1258 non-null   object \n",
            " 1   Open    1258 non-null   float64\n",
            " 2   High    1258 non-null   float64\n",
            " 3   Low     1258 non-null   float64\n",
            " 4   Close   1258 non-null   object \n",
            " 5   Volume  1258 non-null   object \n",
            "dtypes: float64(3), object(3)\n",
            "memory usage: 59.1+ KB\n"
          ]
        }
      ]
    },
    {
      "cell_type": "code",
      "source": [
        "df.isnull().sum()"
      ],
      "metadata": {
        "colab": {
          "base_uri": "https://localhost:8080/",
          "height": 272
        },
        "id": "x5dmS5b2hylp",
        "outputId": "98f47a5b-5c49-48c1-d319-568871290b30"
      },
      "execution_count": 44,
      "outputs": [
        {
          "output_type": "execute_result",
          "data": {
            "text/plain": [
              "Date      0\n",
              "Open      0\n",
              "High      0\n",
              "Low       0\n",
              "Close     0\n",
              "Volume    0\n",
              "dtype: int64"
            ],
            "text/html": [
              "<div>\n",
              "<style scoped>\n",
              "    .dataframe tbody tr th:only-of-type {\n",
              "        vertical-align: middle;\n",
              "    }\n",
              "\n",
              "    .dataframe tbody tr th {\n",
              "        vertical-align: top;\n",
              "    }\n",
              "\n",
              "    .dataframe thead th {\n",
              "        text-align: right;\n",
              "    }\n",
              "</style>\n",
              "<table border=\"1\" class=\"dataframe\">\n",
              "  <thead>\n",
              "    <tr style=\"text-align: right;\">\n",
              "      <th></th>\n",
              "      <th>0</th>\n",
              "    </tr>\n",
              "  </thead>\n",
              "  <tbody>\n",
              "    <tr>\n",
              "      <th>Date</th>\n",
              "      <td>0</td>\n",
              "    </tr>\n",
              "    <tr>\n",
              "      <th>Open</th>\n",
              "      <td>0</td>\n",
              "    </tr>\n",
              "    <tr>\n",
              "      <th>High</th>\n",
              "      <td>0</td>\n",
              "    </tr>\n",
              "    <tr>\n",
              "      <th>Low</th>\n",
              "      <td>0</td>\n",
              "    </tr>\n",
              "    <tr>\n",
              "      <th>Close</th>\n",
              "      <td>0</td>\n",
              "    </tr>\n",
              "    <tr>\n",
              "      <th>Volume</th>\n",
              "      <td>0</td>\n",
              "    </tr>\n",
              "  </tbody>\n",
              "</table>\n",
              "</div><br><label><b>dtype:</b> int64</label>"
            ]
          },
          "metadata": {},
          "execution_count": 44
        }
      ]
    },
    {
      "cell_type": "markdown",
      "source": [
        "There are no null values in the dataset."
      ],
      "metadata": {
        "id": "9ekVegE2h1-Y"
      }
    },
    {
      "cell_type": "code",
      "source": [
        "df['Close'] = pd.to_numeric(df['Close'], errors='coerce')"
      ],
      "metadata": {
        "id": "9uhSZFPgh0tS"
      },
      "execution_count": 45,
      "outputs": []
    },
    {
      "cell_type": "markdown",
      "source": [
        "To make compatable with future numeric operations converted close column to numeric."
      ],
      "metadata": {
        "id": "4OU-MMn9imF0"
      }
    },
    {
      "cell_type": "code",
      "source": [
        "df.isnull().sum()"
      ],
      "metadata": {
        "colab": {
          "base_uri": "https://localhost:8080/",
          "height": 272
        },
        "id": "BkBecX7ciiH9",
        "outputId": "b9b92c8d-d7ca-4a85-84c6-1dd63a98b68c"
      },
      "execution_count": 46,
      "outputs": [
        {
          "output_type": "execute_result",
          "data": {
            "text/plain": [
              "Date        0\n",
              "Open        0\n",
              "High        0\n",
              "Low         0\n",
              "Close     109\n",
              "Volume      0\n",
              "dtype: int64"
            ],
            "text/html": [
              "<div>\n",
              "<style scoped>\n",
              "    .dataframe tbody tr th:only-of-type {\n",
              "        vertical-align: middle;\n",
              "    }\n",
              "\n",
              "    .dataframe tbody tr th {\n",
              "        vertical-align: top;\n",
              "    }\n",
              "\n",
              "    .dataframe thead th {\n",
              "        text-align: right;\n",
              "    }\n",
              "</style>\n",
              "<table border=\"1\" class=\"dataframe\">\n",
              "  <thead>\n",
              "    <tr style=\"text-align: right;\">\n",
              "      <th></th>\n",
              "      <th>0</th>\n",
              "    </tr>\n",
              "  </thead>\n",
              "  <tbody>\n",
              "    <tr>\n",
              "      <th>Date</th>\n",
              "      <td>0</td>\n",
              "    </tr>\n",
              "    <tr>\n",
              "      <th>Open</th>\n",
              "      <td>0</td>\n",
              "    </tr>\n",
              "    <tr>\n",
              "      <th>High</th>\n",
              "      <td>0</td>\n",
              "    </tr>\n",
              "    <tr>\n",
              "      <th>Low</th>\n",
              "      <td>0</td>\n",
              "    </tr>\n",
              "    <tr>\n",
              "      <th>Close</th>\n",
              "      <td>109</td>\n",
              "    </tr>\n",
              "    <tr>\n",
              "      <th>Volume</th>\n",
              "      <td>0</td>\n",
              "    </tr>\n",
              "  </tbody>\n",
              "</table>\n",
              "</div><br><label><b>dtype:</b> int64</label>"
            ]
          },
          "metadata": {},
          "execution_count": 46
        }
      ]
    },
    {
      "cell_type": "code",
      "source": [
        "df_cleaned = df.dropna()"
      ],
      "metadata": {
        "id": "7VXAqWrNi0hC"
      },
      "execution_count": 47,
      "outputs": []
    },
    {
      "cell_type": "markdown",
      "source": [
        "Dropped all the nan values and now the dataset doesn't contain any nan values."
      ],
      "metadata": {
        "id": "BnVOb-57tWcy"
      }
    },
    {
      "cell_type": "code",
      "source": [
        "df_cleaned.isnull().sum()"
      ],
      "metadata": {
        "colab": {
          "base_uri": "https://localhost:8080/",
          "height": 272
        },
        "id": "OcK4IA0RtPeY",
        "outputId": "6e5edbbe-497c-48d2-bb7e-0cf4e5d101b8"
      },
      "execution_count": 48,
      "outputs": [
        {
          "output_type": "execute_result",
          "data": {
            "text/plain": [
              "Date      0\n",
              "Open      0\n",
              "High      0\n",
              "Low       0\n",
              "Close     0\n",
              "Volume    0\n",
              "dtype: int64"
            ],
            "text/html": [
              "<div>\n",
              "<style scoped>\n",
              "    .dataframe tbody tr th:only-of-type {\n",
              "        vertical-align: middle;\n",
              "    }\n",
              "\n",
              "    .dataframe tbody tr th {\n",
              "        vertical-align: top;\n",
              "    }\n",
              "\n",
              "    .dataframe thead th {\n",
              "        text-align: right;\n",
              "    }\n",
              "</style>\n",
              "<table border=\"1\" class=\"dataframe\">\n",
              "  <thead>\n",
              "    <tr style=\"text-align: right;\">\n",
              "      <th></th>\n",
              "      <th>0</th>\n",
              "    </tr>\n",
              "  </thead>\n",
              "  <tbody>\n",
              "    <tr>\n",
              "      <th>Date</th>\n",
              "      <td>0</td>\n",
              "    </tr>\n",
              "    <tr>\n",
              "      <th>Open</th>\n",
              "      <td>0</td>\n",
              "    </tr>\n",
              "    <tr>\n",
              "      <th>High</th>\n",
              "      <td>0</td>\n",
              "    </tr>\n",
              "    <tr>\n",
              "      <th>Low</th>\n",
              "      <td>0</td>\n",
              "    </tr>\n",
              "    <tr>\n",
              "      <th>Close</th>\n",
              "      <td>0</td>\n",
              "    </tr>\n",
              "    <tr>\n",
              "      <th>Volume</th>\n",
              "      <td>0</td>\n",
              "    </tr>\n",
              "  </tbody>\n",
              "</table>\n",
              "</div><br><label><b>dtype:</b> int64</label>"
            ]
          },
          "metadata": {},
          "execution_count": 48
        }
      ]
    },
    {
      "cell_type": "markdown",
      "source": [
        "The closing prices are extracted and reshaped to a 2D array, which is needed for scaling. Using MinMaxScaler, normalized the values between 0 and 1. This scaling helps the LSTM model converge faster and perform better."
      ],
      "metadata": {
        "id": "PPgKJPZruHrJ"
      }
    },
    {
      "cell_type": "code",
      "source": [
        "close_prices_array = df_cleaned['Close'].values.reshape(-1, 1)\n",
        "scaler = MinMaxScaler(feature_range=(0, 1))\n",
        "close_prices_scaled_array = scaler.fit_transform(close_prices_array)"
      ],
      "metadata": {
        "id": "nelc9yDqtkJW"
      },
      "execution_count": 49,
      "outputs": []
    },
    {
      "cell_type": "markdown",
      "source": [
        "The variable sequence_length was set to the number of past prices to incorporate in any given prediction, while step_size would regulate the sequence overlaps. As a result, the repeating loop forms scaled closing prices that have a sequence and appends the subsequent closing price sequence as the input value which is x_sequence and the next price as the output value which is y_value."
      ],
      "metadata": {
        "id": "8pjHEVamuhLo"
      }
    },
    {
      "cell_type": "code",
      "source": [
        "sequence_length = 10\n",
        "step_size = 2\n",
        "input_sequences = []\n",
        "output_values = []\n",
        "for index in range(0, len(close_prices_scaled_array) - sequence_length, step_size):\n",
        "    x_sequence = close_prices_scaled_array[index:index+sequence_length]\n",
        "    y_value = close_prices_scaled_array[index+sequence_length]\n",
        "    input_sequences.append(x_sequence)\n",
        "    output_values.append(y_value)\n",
        "input_sequences_tensor = torch.FloatTensor(np.array(input_sequences))\n",
        "output_values_tensor = torch.FloatTensor(np.array(output_values))"
      ],
      "metadata": {
        "id": "Bo9cpSYmuYDQ"
      },
      "execution_count": 50,
      "outputs": []
    },
    {
      "cell_type": "markdown",
      "source": [
        "Separated the scaled data into training (80%) and testing data (20%). Both input_sequences_tensor and output_values_tensor are partitioned accordingly into training and testing parts."
      ],
      "metadata": {
        "id": "LBsOiKh6v_9F"
      }
    },
    {
      "cell_type": "code",
      "source": [
        "train_split = int(len(close_prices_scaled_array) * 0.8)\n",
        "train_data = close_prices_scaled_array[:train_split]\n",
        "test_data = close_prices_scaled_array[train_split:]\n",
        "train_input_sequences = input_sequences_tensor[:len(train_data) // step_size]\n",
        "train_output_values = output_values_tensor[:len(train_data) // step_size]\n",
        "test_input_sequences = input_sequences_tensor[len(train_data) // step_size:]\n",
        "test_output_values = output_values_tensor[len(train_data) // step_size:]"
      ],
      "metadata": {
        "id": "bShvVgvHvLmo"
      },
      "execution_count": 51,
      "outputs": []
    },
    {
      "cell_type": "markdown",
      "source": [
        "TensorDataset establishes a dataset that links a given input sequence with the value that should be outputted. DataLoader then randomizes the dataset and batches it, easing the process of feeding the model during training."
      ],
      "metadata": {
        "id": "ZWDrFD-dwQMy"
      }
    },
    {
      "cell_type": "code",
      "source": [
        "train_dataset = TensorDataset(train_input_sequences, train_output_values)\n",
        "train_data_loader = DataLoader(dataset=train_dataset, batch_size=64, shuffle=True)"
      ],
      "metadata": {
        "id": "xJuFFXrhwGPq"
      },
      "execution_count": 52,
      "outputs": []
    },
    {
      "cell_type": "markdown",
      "source": [
        "The StockPriceLSTM model incorporates a layer of LSTM neurons which learns how to interpret time series data of the stock prices, combined with a dropout layer to avoid overfitting. A single output node receives the last LSTM output after passing through a blend of a number of such nodes and returns a prediction. The model is defined, together with an optimizer, the mean squared error as a loss function and the Adam optimizer which was used to update model parameters."
      ],
      "metadata": {
        "id": "bv2LymQ7wmYL"
      }
    },
    {
      "cell_type": "code",
      "source": [
        "class StockPriceLSTM(nn.Module):\n",
        "    def __init__(self, input_dim=1, hidden_dim=100, output_dim=1, layer_count=3, dropout_rate=0.3):\n",
        "        super(StockPriceLSTM, self).__init__()\n",
        "        self.lstm = nn.LSTM(input_dim, hidden_dim, num_layers=layer_count, batch_first=True, dropout=dropout_rate, bidirectional=True)\n",
        "        self.fc = nn.Linear(hidden_dim * 2, output_dim)\n",
        "    def forward(self, inputs):\n",
        "        lstm_output, _ = self.lstm(inputs)\n",
        "        predictions = self.fc(lstm_output[:, -1, :])\n",
        "        return predictions.squeeze()\n",
        "model_instance = StockPriceLSTM()\n",
        "loss_function = nn.MSELoss()\n",
        "optimizer_instance = optim.Adam(model_instance.parameters(), lr=0.001)"
      ],
      "metadata": {
        "id": "vi9WdXaZwSuf"
      },
      "execution_count": 53,
      "outputs": []
    },
    {
      "cell_type": "markdown",
      "source": [
        "Every iteration of the model consists of several epochs which will contain multiple mini-batches of data. For every mini-batch, it makes predictions, determines the loss, does backpropagation, and updates the weight of the model. After each epoch, it provides an average loss so that the training process can be monitored."
      ],
      "metadata": {
        "id": "pjTYbW3WxFpc"
      }
    },
    {
      "cell_type": "code",
      "source": [
        "epochs = 100\n",
        "for epoch in range(epochs):\n",
        "    model_instance.train()\n",
        "    epoch_loss = 0\n",
        "    for batch_sequences, batch_labels in train_data_loader:\n",
        "        optimizer_instance.zero_grad()\n",
        "        predictions = model_instance(batch_sequences)\n",
        "        loss = loss_function(predictions, batch_labels.squeeze())\n",
        "        loss.backward()\n",
        "        optimizer_instance.step()\n",
        "        epoch_loss += loss.item()\n",
        "    print(f'Epoch {epoch + 1}, Loss: {epoch_loss / len(train_data_loader)}')"
      ],
      "metadata": {
        "colab": {
          "base_uri": "https://localhost:8080/"
        },
        "id": "f9yq_s3OwxAT",
        "outputId": "3e24bb4f-fc67-4e70-8770-ae503830a380"
      },
      "execution_count": 54,
      "outputs": [
        {
          "output_type": "stream",
          "name": "stdout",
          "text": [
            "Epoch 1, Loss: 0.1447132108733058\n",
            "Epoch 2, Loss: 0.06874942942522466\n",
            "Epoch 3, Loss: 0.05858573317527771\n",
            "Epoch 4, Loss: 0.039334445260465145\n",
            "Epoch 5, Loss: 0.010334441147278994\n",
            "Epoch 6, Loss: 0.0075552965281531215\n",
            "Epoch 7, Loss: 0.0049309613241348416\n",
            "Epoch 8, Loss: 0.004501792835071683\n",
            "Epoch 9, Loss: 0.0043556588352657855\n",
            "Epoch 10, Loss: 0.0034587462068884633\n",
            "Epoch 11, Loss: 0.003714510065037757\n",
            "Epoch 12, Loss: 0.0035846963291987777\n",
            "Epoch 13, Loss: 0.003302739598439075\n",
            "Epoch 14, Loss: 0.0035388259711908177\n",
            "Epoch 15, Loss: 0.003397154447156936\n",
            "Epoch 16, Loss: 0.0028704843862215057\n",
            "Epoch 17, Loss: 0.00245473331597168\n",
            "Epoch 18, Loss: 0.0027313273967592977\n",
            "Epoch 19, Loss: 0.0030287107510957867\n",
            "Epoch 20, Loss: 0.002849117881851271\n",
            "Epoch 21, Loss: 0.002377154251007596\n",
            "Epoch 22, Loss: 0.0023956457735039294\n",
            "Epoch 23, Loss: 0.0023801159113645554\n",
            "Epoch 24, Loss: 0.0023591292338096537\n",
            "Epoch 25, Loss: 0.0021868540934519842\n",
            "Epoch 26, Loss: 0.002258869062643498\n",
            "Epoch 27, Loss: 0.001860078722529579\n",
            "Epoch 28, Loss: 0.002117768148309551\n",
            "Epoch 29, Loss: 0.001989874777791556\n",
            "Epoch 30, Loss: 0.001975923267309554\n",
            "Epoch 31, Loss: 0.0020756949379574507\n",
            "Epoch 32, Loss: 0.0018587242448120378\n",
            "Epoch 33, Loss: 0.0018024966266239062\n",
            "Epoch 34, Loss: 0.0020821160869672894\n",
            "Epoch 35, Loss: 0.0018227722466690466\n",
            "Epoch 36, Loss: 0.0016239560281974263\n",
            "Epoch 37, Loss: 0.0018275628972332925\n",
            "Epoch 38, Loss: 0.0018150667383451946\n",
            "Epoch 39, Loss: 0.0016419930252595805\n",
            "Epoch 40, Loss: 0.00203465974482242\n",
            "Epoch 41, Loss: 0.001893873562949011\n",
            "Epoch 42, Loss: 0.0018684225506149232\n",
            "Epoch 43, Loss: 0.0016977501290966757\n",
            "Epoch 44, Loss: 0.0016161795865627937\n",
            "Epoch 45, Loss: 0.0015172009589150548\n",
            "Epoch 46, Loss: 0.001582771736138966\n",
            "Epoch 47, Loss: 0.0015389120380859822\n",
            "Epoch 48, Loss: 0.0013639301687362604\n",
            "Epoch 49, Loss: 0.0015206105090328492\n",
            "Epoch 50, Loss: 0.0017863641260191798\n",
            "Epoch 51, Loss: 0.002718643801927101\n",
            "Epoch 52, Loss: 0.0023108950263122097\n",
            "Epoch 53, Loss: 0.0017372734946548007\n",
            "Epoch 54, Loss: 0.0018354151106905192\n",
            "Epoch 55, Loss: 0.0016166012428584509\n",
            "Epoch 56, Loss: 0.001552038302179426\n",
            "Epoch 57, Loss: 0.0015878115009400062\n",
            "Epoch 58, Loss: 0.001346765217022039\n",
            "Epoch 59, Loss: 0.001455295721825678\n",
            "Epoch 60, Loss: 0.0014064227507333271\n",
            "Epoch 61, Loss: 0.001646920783969108\n",
            "Epoch 62, Loss: 0.001632514366065152\n",
            "Epoch 63, Loss: 0.0018623380674398504\n",
            "Epoch 64, Loss: 0.0016938373155426234\n",
            "Epoch 65, Loss: 0.001398413282004185\n",
            "Epoch 66, Loss: 0.00137720575730782\n",
            "Epoch 67, Loss: 0.0012971484902664088\n",
            "Epoch 68, Loss: 0.0014740951373823918\n",
            "Epoch 69, Loss: 0.0016963775342446752\n",
            "Epoch 70, Loss: 0.0013050583875156008\n",
            "Epoch 71, Loss: 0.0014990007475716993\n",
            "Epoch 72, Loss: 0.0012181605270598084\n",
            "Epoch 73, Loss: 0.0012707752466667444\n",
            "Epoch 74, Loss: 0.0017045203640009277\n",
            "Epoch 75, Loss: 0.0012679231440415606\n",
            "Epoch 76, Loss: 0.0015255425387294963\n",
            "Epoch 77, Loss: 0.0012151929113315418\n",
            "Epoch 78, Loss: 0.0012070347656845115\n",
            "Epoch 79, Loss: 0.001389470045978669\n",
            "Epoch 80, Loss: 0.0012579235772136599\n",
            "Epoch 81, Loss: 0.0011276353034190834\n",
            "Epoch 82, Loss: 0.001211733848322183\n",
            "Epoch 83, Loss: 0.0014580799033865333\n",
            "Epoch 84, Loss: 0.001108399892473244\n",
            "Epoch 85, Loss: 0.0011999438793282025\n",
            "Epoch 86, Loss: 0.0014024209885974415\n",
            "Epoch 87, Loss: 0.0012401999338180758\n",
            "Epoch 88, Loss: 0.0013903354047215544\n",
            "Epoch 89, Loss: 0.0012248728889971972\n",
            "Epoch 90, Loss: 0.001996162856812589\n",
            "Epoch 91, Loss: 0.0020188925045658834\n",
            "Epoch 92, Loss: 0.0020090921971132047\n",
            "Epoch 93, Loss: 0.0017325650333077647\n",
            "Epoch 94, Loss: 0.0015690704312874004\n",
            "Epoch 95, Loss: 0.0017078143428079784\n",
            "Epoch 96, Loss: 0.0014993881923146546\n",
            "Epoch 97, Loss: 0.0012168414541520178\n",
            "Epoch 98, Loss: 0.0012618019172805361\n",
            "Epoch 99, Loss: 0.0014573572771041654\n",
            "Epoch 100, Loss: 0.0012262577583896928\n"
          ]
        }
      ]
    },
    {
      "cell_type": "markdown",
      "source": [
        "Once training is over, changed the model to evaluation state and prepare a tensor of the test sequence. Predictions are made on the test set data without keeping track of gradients and the predictions and actual values are transformed back to the original stock price scale."
      ],
      "metadata": {
        "id": "HWCdkKWwxpYw"
      }
    },
    {
      "cell_type": "code",
      "source": [
        "model_instance.eval()\n",
        "test_input_tensor = torch.FloatTensor(test_input_sequences)\n",
        "with torch.no_grad():\n",
        "    predicted_values = model_instance(test_input_tensor).numpy().flatten()\n",
        "predicted_prices = scaler.inverse_transform(predicted_values.reshape(-1, 1))\n",
        "actual_prices = scaler.inverse_transform(test_output_values.numpy().reshape(-1, 1))"
      ],
      "metadata": {
        "id": "ZhIDm1sdxaEm"
      },
      "execution_count": 55,
      "outputs": []
    },
    {
      "cell_type": "markdown",
      "source": [
        "MSE, RMSE and MAE are computed in order to gauge model performance. A smaller value of these metrics is always preferred as they are indicative of prediction accuracy."
      ],
      "metadata": {
        "id": "4JVR3qMIyHcy"
      }
    },
    {
      "cell_type": "code",
      "source": [
        "mse_score = mean_squared_error(actual_prices.flatten(), predicted_prices.flatten())\n",
        "rmse_score = np.sqrt(mse_score)\n",
        "mae_score = mean_absolute_error(actual_prices.flatten(), predicted_prices.flatten())\n",
        "print(f'MSE: {mse_score}')\n",
        "print(f'RMSE: {rmse_score}')\n",
        "print(f'MAE: {mae_score}')\n"
      ],
      "metadata": {
        "colab": {
          "base_uri": "https://localhost:8080/"
        },
        "id": "ZRarwbcox9Kv",
        "outputId": "de4342c1-c354-4e97-8a0e-4bb9b7f4e69d"
      },
      "execution_count": 56,
      "outputs": [
        {
          "output_type": "stream",
          "name": "stdout",
          "text": [
            "MSE: 101.00471496582031\n",
            "RMSE: 10.05010986328125\n",
            "MAE: 7.961521625518799\n"
          ]
        }
      ]
    },
    {
      "cell_type": "markdown",
      "source": [
        "From the performance metrics of model it is evident that the model is able to capture the general dynamics of the stock prices. Model has MSE equal 101 and RMSE equal 10.05 which suggest that the average difference between the model’s predicted price and the current price of the stocks is around ten dollars and MAE suggests an average absolute deviation of around eight. The existence of these errors indicates that the model has an ability to sustain trends."
      ],
      "metadata": {
        "id": "0Dup2sw80Z4q"
      }
    },
    {
      "cell_type": "markdown",
      "source": [
        "The below graph depicts the time series between stock price’s actual and estimated values facilitating the evaluation of the model’s prediction ability."
      ],
      "metadata": {
        "id": "y9b_bjatzg0c"
      }
    },
    {
      "cell_type": "code",
      "source": [
        "plt.figure(figsize=(10, 6))\n",
        "plt.plot(actual_prices, label='Actual Prices')\n",
        "plt.plot(predicted_prices, label='Predicted Prices')\n",
        "plt.title('Predicted vs. Actual Stock Prices')\n",
        "plt.xlabel('Days')\n",
        "plt.ylabel('Price (in USD)')\n",
        "plt.legend()\n",
        "plt.show()\n"
      ],
      "metadata": {
        "colab": {
          "base_uri": "https://localhost:8080/",
          "height": 564
        },
        "id": "CyPQN3PWyNrq",
        "outputId": "70c23671-4690-4fb9-b1d7-b02c37cfa3e6"
      },
      "execution_count": 57,
      "outputs": [
        {
          "output_type": "display_data",
          "data": {
            "text/plain": [
              "<Figure size 1000x600 with 1 Axes>"
            ],
            "image/png": "[encoded data removed]"
          },
          "metadata": {}
        }
      ]
    },
    {
      "cell_type": "markdown",
      "source": [
        "In the above graph the performance of the model in terms of predicting the stock price through time is shown where the blue line is representing the actual prices whereas the orange line the predicted ones. More often than not, the model manages to capture the trend of the actual stock prices. Practically, there are several areas where the predicted line overlaps with the actual line and these are particularly areas where prices are not changing drastically. Although at the extremes, that is the peaks and the troughs, the predictions are at times off the actual by such a small margin that it is clear the model has issues with drastic short-term price changes. These discrepancies are most likely to be the determinants of the greater error metrics MSE, RMSE and MAE that are noted above and they represent the time lag in the model to the rapid changes in prices. Generally, the model is doing a commendable job in terms of the trends."
      ],
      "metadata": {
        "id": "wax_Pt9M1K2n"
      }
    }
  ]
}